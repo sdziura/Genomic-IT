# import scikit-allel
import allel
# check which version is installed
print(allel.__version__)
#1.1.10
# Load test results
bcfFN = allel.read_vcf('/sbgenomics/project-files/bcf_FN.vcf')
bcfFP = allel.read_vcf('/sbgenomics/project-files/bcf_FP.vcf')
bcfTPbase = allel.read_vcf('/sbgenomics/project-files/bcf_TPbase.vcf')
bcfTPcall = allel.read_vcf('/sbgenomics/project-files/bcf_TPcall.vcf')
vFN = allel.read_vcf('/sbgenomics/project-files/v.FN.vcf')
vFP = allel.read_vcf('/sbgenomics/project-files/v.FP.vcf')
vTPbase = allel.read_vcf('/sbgenomics/project-files/v.TPBase.vcf')
vTPcall = allel.read_vcf('/sbgenomics/project-files/v.TPCalled.vcf')
bcfFN_2 = allel.read_vcf('/sbgenomics/project-files/TEST2_bcf_FN.vcf')
bcfFP_2 = allel.read_vcf('/sbgenomics/project-files/TEST2_bcf_FP.vcf')
bcfTPbase_2 = allel.read_vcf('/sbgenomics/project-files/TEST2_bcf_TPbase.vcf')
bcfTPcall_2 = allel.read_vcf('/sbgenomics/project-files/TEST2_bcf_TPcall.vcf')
vFN_2 = allel.read_vcf('/sbgenomics/project-files/NA12878.FN.vcf')
vFP_2 = allel.read_vcf('/sbgenomics/project-files/NA12878.FP.vcf')
vTPbase_2 = allel.read_vcf('/sbgenomics/project-files/NA12878.TPBase.vcf')
vTPcall_2 = allel.read_vcf('/sbgenomics/project-files/NA12878.TPCalled.vcf')
# Print number of TP, FP and FN of each test
print("TEST 1 BCF")
print("FN:",len(bcfFN['variants/CHROM']))
print("FP:",len(bcfFP['variants/CHROM']))
print("TP:",len(bcfTPcall['variants/CHROM']),len(bcfTPbase['variants/CHROM']))
#TEST 1 BCF
#FN: 763788
#FP: 922792
#TP: 2673329 2673329
print("TEST 1 RTG")
print("FN:",len(vFN['variants/CHROM']))
print("FP:",len(vFP['variants/CHROM']))
print("TP:",len(vTPcall['variants/CHROM']),len(vTPbase['variants/CHROM']))
#TEST 1 RTG
#FN: 1487896
#FP: 1646870
#TP: 1949251 1949221
print("TEST 2 BCF")
print("FN:",len(bcfFN_2['variants/CHROM']))
print("FP:",len(bcfFP_2['variants/CHROM']))
print("TP:",len(bcfTPcall_2['variants/CHROM']),len(bcfTPbase_2['variants/CHROM']))
#TEST 2 BCF
#FN: 3590420
#FP: 4020461
#TP: 29051 29051
print("TEST 2 RTG")
print("FN:",len(vFN_2['variants/CHROM']))
print("FP:",len(vFP_2['variants/CHROM']))
print("TP:",len(vTPcall_2['variants/CHROM']),len(vTPbase_2['variants/CHROM']))
#TEST 2 RTG
#FN: 3590013
#FP: 3992687
#TP: 36223 29458
